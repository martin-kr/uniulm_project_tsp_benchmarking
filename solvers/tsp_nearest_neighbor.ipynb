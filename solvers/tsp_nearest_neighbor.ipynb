{
 "cells": [
  {
   "cell_type": "code",
   "execution_count": 2,
   "metadata": {},
   "outputs": [],
   "source": [
    "import sys\n",
    "import random\n",
    "\n",
    "class NearestNeighborSolver:\n",
    "    def __init__(self, filename):\n",
    "\n",
    "        distance_matrix = []\n",
    "\n",
    "        with open(filename, 'r') as f:\n",
    "            lines = f.readlines()\n",
    "            read_distances = False  \n",
    "\n",
    "            for line in lines: \n",
    "                line = line.strip()\n",
    "                line = line.replace(':', ' ')\n",
    "\n",
    "                if line.startswith('EOF'):\n",
    "                    break\n",
    "                elif line.startswith('EDGE_WEIGHT_SECTION'):\n",
    "                    read_distances = True\n",
    "                elif read_distances:\n",
    "                    elements = line.split()\n",
    "                    distance_matrix.append([int(e) for e in elements])\n",
    "\n",
    "        self.graph = distance_matrix\n",
    "        self.n = len(distance_matrix)\n",
    "\n",
    "    def nearest_neighbor(self, start=None):\n",
    "\n",
    "        if start is None:\n",
    "            start = random.randint(0, self.n - 1)  # Random starting city\n",
    "        \n",
    "        visited = [False] * self.n\n",
    "        path = [start]\n",
    "        visited[start] = True\n",
    "        total_cost = 0\n",
    "\n",
    "        for _ in range(self.n - 1):\n",
    "            last_visited = path[-1]\n",
    "            nearest = None\n",
    "            min_dist = sys.maxsize\n",
    "\n",
    "            for i in range(self.n):\n",
    "                if not visited[i] and 0 < self.graph[last_visited][i] < min_dist:\n",
    "                    nearest = i\n",
    "                    min_dist = self.graph[last_visited][i]\n",
    "\n",
    "            path.append(nearest)\n",
    "            visited[nearest] = True\n",
    "            total_cost += min_dist\n",
    "\n",
    "        total_cost += self.graph[path[-1]][path[0]]  # Return to start\n",
    "        return total_cost, path "
   ]
  },
  {
   "cell_type": "code",
   "execution_count": 17,
   "metadata": {},
   "outputs": [
    {
     "name": "stdout",
     "output_type": "stream",
     "text": [
      "\n",
      "Nearest Neighbor (Random Start) - Minimum Cost: 2427\n",
      "\n",
      "Path:  [7, 6, 16, 5, 12, 3, 0, 13, 14, 2, 10, 4, 9, 1, 8, 11, 15]\n"
     ]
    }
   ],
   "source": [
    "filename = \"../tsplib_converted_instances/01_small/gr17_converted.tsp\"\n",
    "\n",
    "# Solve using Nearest Neighbor with a random start\n",
    "nn_solver = NearestNeighborSolver(filename)\n",
    "nn_cost, nn_path = nn_solver.nearest_neighbor()\n",
    "\n",
    "print(\"\\nNearest Neighbor (Random Start) - Minimum Cost:\", nn_cost)\n",
    "print(\"\\nPath: \", nn_path)"
   ]
  }
 ],
 "metadata": {
  "kernelspec": {
   "display_name": "project_tsp",
   "language": "python",
   "name": "python3"
  },
  "language_info": {
   "codemirror_mode": {
    "name": "ipython",
    "version": 3
   },
   "file_extension": ".py",
   "mimetype": "text/x-python",
   "name": "python",
   "nbconvert_exporter": "python",
   "pygments_lexer": "ipython3",
   "version": "3.13.1"
  }
 },
 "nbformat": 4,
 "nbformat_minor": 2
}
