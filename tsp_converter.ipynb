{
 "cells": [
  {
   "cell_type": "code",
   "execution_count": 71,
   "metadata": {},
   "outputs": [],
   "source": [
    "# libraries\n",
    "import math\n",
    "import numpy as np"
   ]
  },
  {
   "cell_type": "code",
   "execution_count": 32,
   "metadata": {},
   "outputs": [],
   "source": [
    "def read_file_info(filename):\n",
    "    \n",
    "    tsp_info = {\n",
    "        'name' : '',\n",
    "        'comment' : '',\n",
    "        'dimension' : '',\n",
    "        'original_structure' : '',\n",
    "        'original_substructure' : '',\n",
    "    }\n",
    "\n",
    "\n",
    "    with open(filename, 'r') as file:\n",
    "        lines = file.readlines()\n",
    "\n",
    "        for line in lines:\n",
    "            line = line.strip()\n",
    "            line = line.replace(':', ' ')\n",
    "\n",
    "            if line.startswith('EDGE_WEIGHT_SECTION'):\n",
    "                # Explicit\n",
    "                break\n",
    "            elif line.startswith('NODE_COORD_SECTION'):\n",
    "                # EUC\n",
    "                break\n",
    "            else:\n",
    "                if line.startswith('NAME'):\n",
    "                    tsp_info['name'] = line.split()[1]\n",
    "                    \n",
    "                elif line.startswith('COMMENT'):\n",
    "                    tsp_info['comment'] = ' '.join(line.split()[1:])\n",
    "                \n",
    "                elif line.startswith('DIMENSION'):\n",
    "                    tsp_info['dimension'] = int(line.split()[1])\n",
    "\n",
    "                elif line.startswith('EDGE_WEIGHT_TYPE'):\n",
    "                    tsp_info['original_structure'] = line.split()[1]\n",
    "                \n",
    "                elif line.startswith('EDGE_WEIGHT_FORMAT'):\n",
    "                    tsp_info['original_substructure'] = line.split()[1]\n",
    "    \n",
    "    return tsp_info "
   ]
  },
  {
   "cell_type": "code",
   "execution_count": null,
   "metadata": {},
   "outputs": [],
   "source": [
    "def calculate_distance_euc_2d(city1, city2, decimals=0):\n",
    "    distance = np.sqrt((city1[1] - city2[1])**2 + (city1[2] - city2[2])**2)\n",
    "    return math.ceil(distance)"
   ]
  },
  {
   "cell_type": "code",
   "execution_count": 34,
   "metadata": {},
   "outputs": [],
   "source": [
    "def read_file_euc_2d(filename):\n",
    "\n",
    "    cities = []\n",
    "\n",
    "    with open(filename, 'r') as f:\n",
    "        lines = f.readlines()\n",
    "        read_cities = False\n",
    "\n",
    "        for line in lines: \n",
    "            if line.startswith(\"EOF\"):\n",
    "                break\n",
    "            elif read_cities:\n",
    "                city_parts = line.split()\n",
    "                cities.append((int(city_parts[0]), float(city_parts[1]), float(city_parts[2])))\n",
    "            else:\n",
    "                if line.startswith(\"NODE_COORD_SECTION\"):\n",
    "                    read_cities = True\n",
    "\n",
    "\n",
    "    num_cities = len(cities)\n",
    "    distances = np.zeros((num_cities, num_cities), dtype=int)\n",
    "\n",
    "    for i in range(num_cities):\n",
    "        for j in range(num_cities):\n",
    "            tmp_value = calculate_distance_euc_2d(cities[i], cities[j])\n",
    "            distances[i][j] = int(tmp_value)\n",
    "\n",
    "    return distances"
   ]
  },
  {
   "cell_type": "code",
   "execution_count": null,
   "metadata": {},
   "outputs": [],
   "source": [
    "def read_file_explicit_dummy(filename, tsp_info):\n",
    "    \n",
    "    lower_diag = []\n",
    "\n",
    "    with open(filename, 'r') as f:\n",
    "        lines = f.readlines()\n",
    "        read_diag = False\n",
    "\n",
    "        for line in lines: \n",
    "            if line.startswith(\"EOF\"):\n",
    "                break\n",
    "            elif read_diag:\n",
    "                diag_parts = line.split()\n",
    "                lower_diag.extend(diag_parts)\n",
    "            else:\n",
    "                if line.startswith(\"EDGE_WEIGHT_SECTION\"):\n",
    "                    read_diag = True\n",
    "\n",
    "    distances = np.zeros((tsp_info['dimension'], tsp_info['dimension']), dtype=int)\n",
    "    index = 0\n",
    "    for i in range(tsp_info['dimension'] - 2):\n",
    "        for j in range(i + 1):\n",
    "            distances[i, j] = lower_diag[index]\n",
    "            distances[j, i] = lower_diag[index]\n",
    "            index += 1\n",
    "\n",
    "    return distances"
   ]
  },
  {
   "cell_type": "code",
   "execution_count": 35,
   "metadata": {},
   "outputs": [],
   "source": [
    "def read_file_explicit_upper_row(filename, tsp_info):\n",
    "    \n",
    "    upper_diag = []\n",
    "\n",
    "    with open(filename, 'r') as f:\n",
    "        lines = f.readlines()\n",
    "        read_diag = False\n",
    "\n",
    "        for line in lines: \n",
    "            if line.startswith(\"EOF\"):\n",
    "                break\n",
    "            elif read_diag:\n",
    "                diag_parts = line.split()\n",
    "                upper_diag.extend(diag_parts)\n",
    "            else:\n",
    "                if line.startswith(\"EDGE_WEIGHT_SECTION\"):\n",
    "                    read_diag = True\n",
    "\n",
    "    read_diag_index = 0\n",
    "    distances = np.zeros((tsp_info['dimension'], tsp_info['dimension']), dtype=int)\n",
    "\n",
    "    for i in range(0, tsp_info['dimension']):\n",
    "        for  j in range(i, tsp_info['dimension']):\n",
    "            if (i == j):\n",
    "                distances[i][j] = 0\n",
    "            else:\n",
    "                distances[i][j] = upper_diag[read_diag_index]\n",
    "                distances[j][i] = upper_diag[read_diag_index]\n",
    "                read_diag_index = read_diag_index + 1\n",
    " \n",
    "\n",
    "    return distances\n"
   ]
  },
  {
   "cell_type": "code",
   "execution_count": 47,
   "metadata": {},
   "outputs": [],
   "source": [
    "def read_file_explicit_lower_dialog_row(filename, tsp_info):\n",
    "    \n",
    "    lower_diag = []\n",
    "\n",
    "    with open(filename, 'r') as f:\n",
    "        lines = f.readlines()\n",
    "        read_diag = False\n",
    "\n",
    "        for line in lines: \n",
    "            if line.startswith(\"EOF\"):\n",
    "                break\n",
    "            elif read_diag:\n",
    "                diag_parts = line.split()\n",
    "                lower_diag.extend(diag_parts)\n",
    "            else:\n",
    "                if line.startswith(\"EDGE_WEIGHT_SECTION\"):\n",
    "                    read_diag = True\n",
    "\n",
    "    read_diag_index = 0\n",
    "    distances = np.zeros((tsp_info['dimension'], tsp_info['dimension']), dtype=int)\n",
    "\n",
    "    for j in range(0, tsp_info['dimension']):\n",
    "        for  i in range(0, j + 1): \n",
    "            if (i == j):\n",
    "                distances[i][j] = 0\n",
    "                read_diag_index = read_diag_index + 1\n",
    "            else: \n",
    "                distances[i][j] = lower_diag[read_diag_index]\n",
    "                distances[j][i] = lower_diag[read_diag_index]\n",
    "                read_diag_index = read_diag_index + 1\n",
    " \n",
    "\n",
    "    return distances\n"
   ]
  },
  {
   "cell_type": "code",
   "execution_count": null,
   "metadata": {},
   "outputs": [],
   "source": [
    "def dummy(filename, tsp_info):\n",
    "\n",
    "    return False"
   ]
  },
  {
   "cell_type": "code",
   "execution_count": 37,
   "metadata": {},
   "outputs": [],
   "source": [
    "def write_distance_matrix(tsp_info, distances, output_filename):\n",
    "\n",
    "    with open(output_filename, 'w') as f:\n",
    "        f.write(f\"NAME : {tsp_info['name']}\\n\")\n",
    "        f.write(f\"TYPE : TSP\\n\")\n",
    "        f.write(f\"COMMENT : {tsp_info['comment']}\\n\")\n",
    "        f.write(f\"DIMENSION : {tsp_info['dimension']}\\n\")\n",
    "        f.write(f\"EDGE_WEIGHT_TYPE : EXPLICIT\\n\")\n",
    "        f.write(f\"EDGE_WEIGHT_FORMAT : FULL_MATRIX\\n\")\n",
    "        f.write(f\"EDGE_WEIGHT_SECTION\\n\")\n",
    "\n",
    "        for i in range(len(distances)):\n",
    "            for j in range(len(distances[i])):\n",
    "                f.write(f\"{distances[i][j]} \")\n",
    "            f.write(\"\\n\")\n",
    "\n",
    "        f.write(\"EOF\\n\")"
   ]
  },
  {
   "cell_type": "code",
   "execution_count": 38,
   "metadata": {},
   "outputs": [],
   "source": [
    "def read_file_content(filename, tsp_info, output_filename):\n",
    "    \n",
    "    if tsp_info['original_structure'] == 'EUC_2D':\n",
    "        file_distances = read_file_euc_2d(filename)\n",
    "    elif tsp_info['original_structure'] == 'EXPLICIT':\n",
    "        # if tsp_info['original_substructure'] == 'FULL_MATRIX':\n",
    "        #     # nothing\n",
    "        #     file_dist = read_file_explicit_full_matrix(filename)\n",
    "        if tsp_info['original_substructure'] == 'UPPER_ROW':\n",
    "            file_distances = read_file_explicit_upper_row(filename, tsp_info)\n",
    "        elif tsp_info['original_substructure'] == 'LOWER_DIAG_ROW':\n",
    "            file_distances = read_file_explicit_lower_dialog_row(filename, tsp_info)\n",
    "        else:\n",
    "            return False\n",
    "    \n",
    "    else:\n",
    "        return False\n",
    "\n",
    "    write_distance_matrix(tsp_info, file_distances, output_filename)\n"
   ]
  },
  {
   "cell_type": "code",
   "execution_count": 70,
   "metadata": {},
   "outputs": [],
   "source": [
    "# TSP Problems selected for Analysis:\n",
    "# \n",
    "# SMALL:\n",
    "# \n",
    "# gr17.tsp, 17, 17-city problem (Groetschel)\n",
    "# bayg29.tsp, 29, 29 Cities in Bavaria, geographical distances (Groetschel,Juenger,Reinelt)\n",
    "# swiss42.tsp, 42, 42 Staedte Schweiz (Fricker)\n",
    "# dantzig42.tsp, 42, 42 cities (Dantzig)\n",
    "# gr48.tsp, 48, 48-city problem (Groetschel)\n",
    "# \n",
    "# \n",
    "# MEDIUM:\n",
    "# \n",
    "# brazil58, 58, 58 cities in Brazil (Ferreira),\n",
    "# st70.tsp, 70, 70-city problem (Smith/Thompson)\n",
    "# eil76.tsp, 76, 76-city problem (Christofides/Eilon)\n",
    "# rat99.tsp, 99, Rattled grid (Pulleyblank)\n",
    "# kroA.tsp, 100, 100-city problem A (Krolak/Felts/Nelson)\n",
    "# \n",
    "# \n",
    "# LARGE: \n",
    "# \n",
    "# lin105.tsp, 105, 105-city problem (Subproblem of lin318)\n",
    "# pr107.tsp, 107,  107-city problem (Padberg/Rinaldi)\n",
    "# bier127.tsp, 127, 127 Biergaerten in Augsburg (Juenger/Reinelt)\n",
    "# pr136.tsp, 136, 136-city problem (Padberg/Rinaldi)\n",
    "# kroB150.tsp, 150, 150-city problem B (Krolak/Felts/Nelson)"
   ]
  },
  {
   "cell_type": "code",
   "execution_count": 53,
   "metadata": {},
   "outputs": [],
   "source": [
    "filename = \"tsplib_instances_project/01_small/gr17.tsp\"\n",
    "filename_new = \"tsplib_converted_instances/01_small/gr17_converted.tsp\" \n",
    "tsp_info = read_file_info(filename)\n",
    "read_file_content(filename, tsp_info, filename_new)"
   ]
  },
  {
   "cell_type": "code",
   "execution_count": 54,
   "metadata": {},
   "outputs": [],
   "source": [
    "filename = \"tsplib_instances_project/01_small/bayg29.tsp\"\n",
    "filename_new = \"tsplib_converted_instances/01_small/bayg29_converted.tsp\" \n",
    "tsp_info = read_file_info(filename)\n",
    "read_file_content(filename, tsp_info, filename_new)"
   ]
  },
  {
   "cell_type": "code",
   "execution_count": 56,
   "metadata": {},
   "outputs": [],
   "source": [
    "filename = \"tsplib_instances_project/01_small/dantzig42.tsp\"\n",
    "filename_new = \"tsplib_converted_instances/01_small/dantzig42_converted.tsp\" \n",
    "tsp_info = read_file_info(filename)\n",
    "read_file_content(filename, tsp_info, filename_new)"
   ]
  },
  {
   "cell_type": "code",
   "execution_count": 57,
   "metadata": {},
   "outputs": [],
   "source": [
    "filename = \"tsplib_instances_project/01_small/gr48.tsp\"\n",
    "filename_new = \"tsplib_converted_instances/01_small/gr48_converted.tsp\" \n",
    "tsp_info = read_file_info(filename)\n",
    "read_file_content(filename, tsp_info, filename_new)"
   ]
  },
  {
   "cell_type": "code",
   "execution_count": 58,
   "metadata": {},
   "outputs": [],
   "source": [
    "filename = \"tsplib_instances_project/02_medium/brazil58.tsp\"\n",
    "filename_new = \"tsplib_converted_instances/02_medium/brazil58_converted.tsp\" \n",
    "tsp_info = read_file_info(filename)\n",
    "read_file_content(filename, tsp_info, filename_new)"
   ]
  },
  {
   "cell_type": "code",
   "execution_count": 59,
   "metadata": {},
   "outputs": [],
   "source": [
    "filename = \"tsplib_instances_project/02_medium/st70.tsp\"\n",
    "filename_new = \"tsplib_converted_instances/02_medium/st70_converted.tsp\" \n",
    "tsp_info = read_file_info(filename)\n",
    "read_file_content(filename, tsp_info, filename_new)"
   ]
  },
  {
   "cell_type": "code",
   "execution_count": 60,
   "metadata": {},
   "outputs": [],
   "source": [
    "filename = \"tsplib_instances_project/02_medium/eil76.tsp\"\n",
    "filename_new = \"tsplib_converted_instances/02_medium/eil76_converted.tsp\" \n",
    "tsp_info = read_file_info(filename)\n",
    "read_file_content(filename, tsp_info, filename_new)"
   ]
  },
  {
   "cell_type": "code",
   "execution_count": 61,
   "metadata": {},
   "outputs": [],
   "source": [
    "filename = \"tsplib_instances_project/02_medium/rat99.tsp\"\n",
    "filename_new = \"tsplib_converted_instances/02_medium/rat99_converted.tsp\" \n",
    "tsp_info = read_file_info(filename)\n",
    "read_file_content(filename, tsp_info, filename_new)"
   ]
  },
  {
   "cell_type": "code",
   "execution_count": 62,
   "metadata": {},
   "outputs": [],
   "source": [
    "filename = \"tsplib_instances_project/02_medium/kroA100.tsp\"\n",
    "filename_new = \"tsplib_converted_instances/02_medium/kroA100_converted.tsp\" \n",
    "tsp_info = read_file_info(filename)\n",
    "read_file_content(filename, tsp_info, filename_new)"
   ]
  },
  {
   "cell_type": "code",
   "execution_count": 64,
   "metadata": {},
   "outputs": [],
   "source": [
    "filename = \"tsplib_instances_project/03_large/lin105.tsp\"\n",
    "filename_new = \"tsplib_converted_instances/03_large/lin105_converted.tsp\" \n",
    "tsp_info = read_file_info(filename)\n",
    "read_file_content(filename, tsp_info, filename_new)"
   ]
  },
  {
   "cell_type": "code",
   "execution_count": 65,
   "metadata": {},
   "outputs": [],
   "source": [
    "filename = \"tsplib_instances_project/03_large/pr107.tsp\"\n",
    "filename_new = \"tsplib_converted_instances/03_large/pr107_converted.tsp\" \n",
    "tsp_info = read_file_info(filename)\n",
    "read_file_content(filename, tsp_info, filename_new)"
   ]
  },
  {
   "cell_type": "code",
   "execution_count": 66,
   "metadata": {},
   "outputs": [],
   "source": [
    "filename = \"tsplib_instances_project/03_large/bier127.tsp\"\n",
    "filename_new = \"tsplib_converted_instances/03_large/bier127_converted.tsp\" \n",
    "tsp_info = read_file_info(filename)\n",
    "read_file_content(filename, tsp_info, filename_new)"
   ]
  },
  {
   "cell_type": "code",
   "execution_count": 67,
   "metadata": {},
   "outputs": [],
   "source": [
    "filename = \"tsplib_instances_project/03_large/pr136.tsp\"\n",
    "filename_new = \"tsplib_converted_instances/03_large/pr136_converted.tsp\" \n",
    "tsp_info = read_file_info(filename)\n",
    "read_file_content(filename, tsp_info, filename_new)"
   ]
  },
  {
   "cell_type": "code",
   "execution_count": 68,
   "metadata": {},
   "outputs": [],
   "source": [
    "filename = \"tsplib_instances_project/03_large/kroB150.tsp\"\n",
    "filename_new = \"tsplib_converted_instances/03_large/kroB150.tsp\" \n",
    "tsp_info = read_file_info(filename)\n",
    "read_file_content(filename, tsp_info, filename_new)"
   ]
  }
 ],
 "metadata": {
  "kernelspec": {
   "display_name": "project_tsp",
   "language": "python",
   "name": "python3"
  },
  "language_info": {
   "codemirror_mode": {
    "name": "ipython",
    "version": 3
   },
   "file_extension": ".py",
   "mimetype": "text/x-python",
   "name": "python",
   "nbconvert_exporter": "python",
   "pygments_lexer": "ipython3",
   "version": "3.13.1"
  }
 },
 "nbformat": 4,
 "nbformat_minor": 2
}
