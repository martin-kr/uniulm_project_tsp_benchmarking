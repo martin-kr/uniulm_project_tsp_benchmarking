{
 "cells": [
  {
   "cell_type": "code",
   "execution_count": null,
   "metadata": {},
   "outputs": [],
   "source": [
    "import sys\n",
    "import random\n",
    "import math\n",
    "\n",
    "class NearestNeighborSolver:\n",
    "    def __init__(self, filename):\n",
    "\n",
    "        distance_matrix = []\n",
    "        euc_coordinates = []\n",
    "        explicit = True\n",
    "\n",
    "        with open(filename, 'r') as f:\n",
    "            lines = f.readlines()\n",
    "            read_distances = False  \n",
    "\n",
    "            for line in lines: \n",
    "                line = line.strip()\n",
    "\n",
    "                if line.startswith('EOF'):\n",
    "                    break\n",
    "                elif line.startswith('EDGE_WEIGHT_TYPE'):\n",
    "                    if 'EXPLICIT' in line:\n",
    "                        explicit = True\n",
    "                    else:\n",
    "                        explicit = False\n",
    "                elif line.startswith('EDGE_WEIGHT_SECTION') or line.startswith('NODE_COORD_SECTION'):\n",
    "                    read_distances = True\n",
    "                elif explicit and read_distances:\n",
    "                    elements = line.split()\n",
    "                    distance_matrix.append([int(e) for e in elements])\n",
    "                elif explicit == False and read_distances: \n",
    "                    elements = line.split()\n",
    "                    x = int(elements[1])\n",
    "                    y = int(elements[2])\n",
    "                    euc_coordinates.append((x, y))\n",
    "\n",
    "        if explicit:\n",
    "            self.distance_matrix = distance_matrix\n",
    "            self.n = len(distance_matrix)\n",
    "            self.explicit = True\n",
    "        else:\n",
    "            self.coordinates = euc_coordinates\n",
    "            self.n = len(euc_coordinates)\n",
    "            self.explicit = False\n",
    "\n",
    "    def get_cost(self, i, j):\n",
    "        if self.explicit:\n",
    "            return self.graph[i][j]    \n",
    "        else:\n",
    "            x1, y1 = self.coordinates[i]\n",
    "            x2, y2 = self.coordinates[j]\n",
    "            return math.ceil(((x1 - x2) ** 2 + (y1 - y2) ** 2) ** 0.5)\n",
    "\n",
    "    def nearest_neighbor(self, start = 0):\n",
    "        \n",
    "        visited = [False] * self.n\n",
    "        path = [start]\n",
    "        visited[start] = True\n",
    "        total_cost = 0\n",
    "\n",
    "        for _ in range(self.n - 1):\n",
    "            last_visited = path[-1]\n",
    "            nearest = None\n",
    "            min_dist = sys.maxsize\n",
    "\n",
    "            for i in range(self.n):\n",
    "                if not visited[i] and 0 < self.get_cost(last_visited, i) < min_dist:\n",
    "                    nearest = i\n",
    "                    min_dist = self.get_cost(last_visited, i)\n",
    "\n",
    "            path.append(nearest)\n",
    "            visited[nearest] = True\n",
    "            total_cost += min_dist\n",
    "\n",
    "        total_cost += self.get_cost(path[-1], path[0])  # Return to start\n",
    "        return total_cost, path "
   ]
  },
  {
   "cell_type": "code",
   "execution_count": null,
   "metadata": {},
   "outputs": [
    {
     "name": "stdout",
     "output_type": "stream",
     "text": [
      "\n",
      "Nearest Neighbor (Random Start) - Minimum Cost: 716\n",
      "\n",
      "Path:  [0, 72, 61, 27, 73, 29, 1, 67, 74, 75, 66, 25, 11, 39, 16, 50, 5, 32, 62, 15, 2, 43, 31, 8, 38, 71, 57, 9, 37, 64, 10, 52, 13, 18, 7, 34, 6, 45, 33, 51, 26, 44, 28, 4, 36, 19, 69, 59, 70, 35, 46, 20, 47, 3, 12, 53, 56, 14, 68, 60, 21, 41, 40, 42, 22, 55, 48, 23, 17, 49, 24, 54, 30, 65, 58, 63]\n"
     ]
    }
   ],
   "source": [
    "# filename = \"../tsplib_converted_instances/01_small/gr17_converted.tsp\"\n",
    "# filename = \"../tsplib_instances_project/02_medium/eil76.tsp\"\n",
    "filename = \"../tsplib_instances_new/01_small/kroA100.tsp\"\n",
    "\n",
    "# Solve using Nearest Neighbor with a random start\n",
    "nn_solver = NearestNeighborSolver(filename)\n",
    "nn_cost, nn_path = nn_solver.nearest_neighbor(0)\n",
    "\n",
    "print(\"\\nNearest Neighbor (Random Start) - Minimum Cost:\", nn_cost)\n",
    "print(\"\\nPath: \", nn_path)"
   ]
  }
 ],
 "metadata": {
  "kernelspec": {
   "display_name": "project_tsp",
   "language": "python",
   "name": "python3"
  },
  "language_info": {
   "codemirror_mode": {
    "name": "ipython",
    "version": 3
   },
   "file_extension": ".py",
   "mimetype": "text/x-python",
   "name": "python",
   "nbconvert_exporter": "python",
   "pygments_lexer": "ipython3",
   "version": "3.13.1"
  }
 },
 "nbformat": 4,
 "nbformat_minor": 2
}
